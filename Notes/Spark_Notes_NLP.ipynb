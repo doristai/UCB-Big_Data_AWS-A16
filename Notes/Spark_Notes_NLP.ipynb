{
 "cells": [
  {
   "cell_type": "markdown",
   "source": [
    "# NLP\r\n",
    "## Tokenization \r\n",
    " - Tokenization is the concept of splitting a document or sentence into small subsets of data that can be analyzed.\r\n",
    " - Tokenization can be performed by word or sentence\r\n",
    "  - To tokenize by sentence, you would provide a document with at least one sentence. \r\n",
    "\r\n",
    "## Normalisation \r\n",
    "- Normalisation is taking misspelled words and converting them into their original form \r\n",
    "- It helps get the text to a readable forma and allows us to create other use cases on top of it. \r\n",
    "\r\n",
    "### Stemming \r\n",
    "- Removes the suffic from a word and reduce it to its original form\r\n",
    "- e.g. To reduce \"horses\" to \"horse\" and \"ponies\" to \"poni\"\r\n",
    "\r\n",
    "### Lemmatisation \r\n",
    "- Removes the sufix from a word and reduces it to its origical form\r\n",
    "- Tends to be a smoother cut off the end of the word\r\n",
    "  - Tries to return to the original root word \r\n",
    "- Lemmatisation always returns a real word \r\n",
    "- e.g. \"am\" --> \"be\" \r\n",
    "\r\n",
    "## Part-of-Speech (PoS) Tagging"
   ],
   "metadata": {}
  },
  {
   "cell_type": "code",
   "execution_count": 1,
   "source": [
    "import nltk\r\n",
    "from nltk import word_tokenize\r\n",
    "text = word_tokenize(\"I enjoy biking on the trails\")\r\n",
    "output = nltk.pos_tag(text)\r\n",
    "print(output)"
   ],
   "outputs": [
    {
     "output_type": "stream",
     "name": "stdout",
     "text": [
      "[('I', 'PRP'), ('enjoy', 'VBP'), ('biking', 'VBG'), ('on', 'IN'), ('the', 'DT'), ('trails', 'NNS')]\n"
     ]
    }
   ],
   "metadata": {}
  },
  {
   "cell_type": "markdown",
   "source": [
    "## n-gram \r\n",
    "- A sequence of items from a given text \r\n",
    "- Common n-grams: \r\n",
    "\r\n",
    "      - Unigram - Size 1 n-gram \r\n",
    "\r\n",
    "      - Bigram - Size 2 n-gram \r\n",
    "\r\n",
    "      - Trigram - Size 3 n-gram \r\n",
    "\r\n",
    "- For instance: \r\n",
    "\r\n",
    "      - “I like pizzas” \r\n",
    "\r\n",
    "            - Unigram - “I,” “like,” and “pizzas.” \r\n",
    "\r\n",
    "            - Bigram - “I like” and “like pizzas.”\r\n",
    "\r\n",
    "            - Trigram - \"I like pizzas.\"\r\n",
    "\r\n"
   ],
   "metadata": {}
  },
  {
   "cell_type": "markdown",
   "source": [
    "## NLP Analyses\r\n",
    "\r\n",
    "### 1. Syntactic Analysis \r\n",
    "\r\n",
    "- Important to check the dictionary definition of each element of a sentence or document \r\n",
    "\r\n",
    "- Do not care about the words that come before or after the word in question \r\n",
    "\r\n",
    "### 2. Sentiment Analysis \r\n",
    "\r\n",
    "- Pertain to what the text means \r\n",
    "\r\n",
    "- Come up with a score of how positive or negative meaning of the text as a whole \r\n",
    "\r\n",
    "### 3. Semantic Analysis \r\n",
    "\r\n",
    "- Entails extracting the meaning of the text \r\n",
    "\r\n",
    "- Tend to analyse the meaning of each word and then relate that to the meaning of the text as a whole"
   ],
   "metadata": {}
  },
  {
   "cell_type": "markdown",
   "source": [
    "## Named-Entity Recognition (NER) \r\n",
    "\r\n",
    "- Taking a document and finding all of the important terms therein \r\n",
    "\r\n",
    "- Train a model on data labelled with important entities so that the model can better distinguish which entities should be labelled in a different dataset."
   ],
   "metadata": {}
  },
  {
   "cell_type": "markdown",
   "source": [
    "## NLP Pipeline\r\n",
    "\r\n",
    "### 1. Raw Text \r\n",
    "\r\n",
    "- Start with the raw data \r\n",
    "\r\n",
    "### 2. Tokenisation \r\n",
    "\r\n",
    "- Separate the words from paragraphs, to sentences, to individual words\r\n",
    "\r\n",
    "### 3. Stop Words Filtering \r\n",
    "\r\n",
    "- Remove common words like \"a\" and \"the\" that add no real value to what we are looking to analyse \r\n",
    "\r\n",
    "### 4. Term Frequency-Inverse Document Frequency (TF-IDF)\r\n",
    "\r\n",
    "- Statistically rank the words by importance compared to the rest of the words in the text \r\n",
    "\r\n",
    "- This is also when the words are converted from text to numbers \r\n",
    "\r\n",
    "### 5. Machine Learning\r\n",
    "\r\n",
    "- Put everything together and run through the machine learning model to produce an output"
   ],
   "metadata": {}
  },
  {
   "cell_type": "code",
   "execution_count": null,
   "source": [
    "import os\r\n",
    "# Find the latest version of spark 3.0  from http://www.apache.org/dist/spark/ and enter as the spark version\r\n",
    "# For example:\r\n",
    "# spark_version = 'spark-3.0.3'\r\n",
    "spark_version = 'spark-3.0.3'\r\n",
    "os.environ['SPARK_VERSION']=spark_version\r\n",
    "\r\n",
    "# Install Spark and Java\r\n",
    "!apt-get update\r\n",
    "!apt-get install openjdk-11-jdk-headless -qq > /dev/null\r\n",
    "!wget -q http://www.apache.org/dist/spark/$SPARK_VERSION/$SPARK_VERSION-bin-hadoop2.7.tgz\r\n",
    "!tar xf $SPARK_VERSION-bin-hadoop2.7.tgz\r\n",
    "!pip install -q findspark\r\n",
    "\r\n",
    "# Set Environment Variables\r\n",
    "import os\r\n",
    "os.environ[\"JAVA_HOME\"] = \"/usr/lib/jvm/java-11-openjdk-amd64\"\r\n",
    "os.environ[\"SPARK_HOME\"] = f\"/content/{spark_version}-bin-hadoop2.7\"\r\n",
    "\r\n",
    "# Start a SparkSession\r\n",
    "import findspark\r\n",
    "findspark.init()"
   ],
   "outputs": [],
   "metadata": {}
  }
 ],
 "metadata": {
  "orig_nbformat": 4,
  "language_info": {
   "name": "python",
   "version": "3.8.8",
   "mimetype": "text/x-python",
   "codemirror_mode": {
    "name": "ipython",
    "version": 3
   },
   "pygments_lexer": "ipython3",
   "nbconvert_exporter": "python",
   "file_extension": ".py"
  },
  "kernelspec": {
   "name": "python3",
   "display_name": "Python 3.8.8 64-bit ('base': conda)"
  },
  "interpreter": {
   "hash": "9ccd9800bdbe2b71ed4b5bad5572ee97cf703b4798d4f0ee25d31d73aa5cbd88"
  }
 },
 "nbformat": 4,
 "nbformat_minor": 2
}